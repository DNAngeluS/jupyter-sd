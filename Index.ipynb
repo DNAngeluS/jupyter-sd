{
 "cells": [
  {
   "attachments": {},
   "cell_type": "markdown",
   "metadata": {},
   "source": [
    "# Jupyter Index Notebook\n",
    "This a development notebook used for training in Jupyter, Python, Torch, Stable Diffusion and Google Colab. If you find this interesting feel free to copy and share any code.\n",
    "\n",
    "## Understanding Jupyter Notebooks\n",
    "Jupyter is an ecosystem for development and sharing data, you can use find everything to get started on their [website](https://jupyter.org/). In my case I'll be using what i'm confortable with: Visual Studio Code, Python (which I'm learning) and maybe JS (which I'm comfortable).\n",
    "\n",
    "In my case installation took 3 steps:\n",
    "1. Having Python 3 installed\n",
    "2. Having Visual Studio with Python, Jupyter (and maybe something else) installed.\n",
    "3. running the command `pip install jupyter`\n",
    "\n",
    "I basically follow the [Jupyter Notebooks in VS Code](https://code.visualstudio.com/docs/datascience/jupyter-notebooks) guide.\n",
    "\n",
    "### Example 1\n",
    "Making a Hello world in Python"
   ]
  },
  {
   "cell_type": "code",
   "execution_count": 1,
   "metadata": {},
   "outputs": [
    {
     "name": "stdout",
     "output_type": "stream",
     "text": [
      "Hello World\n"
     ]
    }
   ],
   "source": [
    "msg = \"Hello World\"\n",
    "print(msg)"
   ]
  },
  {
   "attachments": {},
   "cell_type": "markdown",
   "metadata": {},
   "source": [
    "### Example 2\n",
    "Running Code in any other language (let's say JS)"
   ]
  },
  {
   "cell_type": "code",
   "execution_count": 12,
   "metadata": {
    "vscode": {
     "languageId": "javascript"
    }
   },
   "outputs": [
    {
     "data": {
      "application/javascript": "\nconst msg = \"Hello JS\";\nconsole.log(msg);\n",
      "text/plain": [
       "<IPython.core.display.Javascript object>"
      ]
     },
     "metadata": {},
     "output_type": "display_data"
    }
   ],
   "source": [
    "%%js\n",
    "\n",
    "const msg = \"Hello JS\";\n",
    "console.log(msg);"
   ]
  }
 ],
 "metadata": {
  "kernelspec": {
   "display_name": "Python 3",
   "language": "python",
   "name": "python3"
  },
  "language_info": {
   "codemirror_mode": {
    "name": "ipython",
    "version": 3
   },
   "file_extension": ".py",
   "mimetype": "text/x-python",
   "name": "python",
   "nbconvert_exporter": "python",
   "pygments_lexer": "ipython3",
   "version": "3.10.9"
  },
  "orig_nbformat": 4,
  "vscode": {
   "interpreter": {
    "hash": "e7370f93d1d0cde622a1f8e1c04877d8463912d04d973331ad4851f04de6915a"
   }
  }
 },
 "nbformat": 4,
 "nbformat_minor": 2
}
